{
  "nbformat": 4,
  "nbformat_minor": 0,
  "metadata": {
    "colab": {
      "name": "wec script.ipynb",
      "provenance": [],
      "collapsed_sections": [],
      "authorship_tag": "ABX9TyOjkJSR9SB6ZnvPS6aurlnq",
      "include_colab_link": true
    },
    "kernelspec": {
      "name": "python3",
      "display_name": "Python 3"
    }
  },
  "cells": [
    {
      "cell_type": "markdown",
      "metadata": {
        "id": "view-in-github",
        "colab_type": "text"
      },
      "source": [
        "<a href=\"https://colab.research.google.com/github/rugwizangoga/Coding-challenges/blob/main/wec_script.ipynb\" target=\"_parent\"><img src=\"https://colab.research.google.com/assets/colab-badge.svg\" alt=\"Open In Colab\"/></a>"
      ]
    },
    {
      "cell_type": "code",
      "metadata": {
        "id": "six1bsCo77hb"
      },
      "source": [
        "import re\n",
        "from openpyxl import Workbook\n",
        "\n",
        "# this function extract and returns the access codes from the provided sentences\n",
        "def retrieve_access_code(line):\n",
        "  ACpattern='\\d{3}-\\d{3}-\\d{3}'\n",
        "  CDAC=re.compile(ACpattern) \n",
        "  AC=CDAC.search(line) \n",
        "  if AC==None:\n",
        "    return None\n",
        "  else:\n",
        "    return AC.group()\n",
        "\n",
        "# this function extract and returns the content of a txt file \n",
        "def file_reader(filepath):\n",
        "\n",
        "  with open(filepath,'r') as lines:\n",
        "    content=lines.readlines()\n",
        "\n",
        "    lines.close()\n",
        "  return content\n",
        "\n",
        "# this function writes the found access codes into an exel file for report\n",
        "def access_codes_to_exel(path):\n",
        "  content=file_reader(path)\n",
        "  workbook = Workbook()\n",
        "  n=1\n",
        "  sheet = workbook.active\n",
        "  for word in content:\n",
        "      code=retrieve_access_code(word)\n",
        "      if code!=None:\n",
        "        address=\"A\"+str(n)\n",
        "        sheet[address] = code\n",
        "        n+=1\n",
        "        #find an index of a dot that starts a file extension in a path\n",
        "        dotposition=~path[::-1].find('.')\n",
        "  destinationfile=path[:dotposition]+\".xlsx\"\n",
        "  workbook.save(filename=destinationfile)\n",
        "\n",
        "path=input(\"Enter the full path of your access code text file and remember to add an extra backward slash:\")\n",
        "access_codes_to_exel(path)\n",
        "\n"
      ],
      "execution_count": null,
      "outputs": []
    }
  ]
}